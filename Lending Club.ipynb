{
 "cells": [
  {
   "cell_type": "code",
   "execution_count": 1,
   "metadata": {
    "collapsed": true
   },
   "outputs": [],
   "source": [
    "import pandas as pd\n",
    "import numpy as np\n",
    "import os\n",
    "import matplotlib.pyplot as plt\n",
    "import seaborn as sns\n",
    "%matplotlib inline"
   ]
  },
  {
   "cell_type": "code",
   "execution_count": 2,
   "metadata": {
    "collapsed": true
   },
   "outputs": [],
   "source": [
    "os.chdir('E:\\personal project\\Lending Club')"
   ]
  },
  {
   "cell_type": "code",
   "execution_count": 3,
   "metadata": {
    "collapsed": true
   },
   "outputs": [],
   "source": [
    "#import dask.dataframe as dd\n",
    "#df = dd.read_csv('LoanStats_2015.csv',dtype='str')\n",
    "#df.loan_status.value_counts().compute()\n",
    "#dff=df[df.loan_status.isin(['Charged Off','Late (31-120 days),','Default'])].compute()"
   ]
  },
  {
   "cell_type": "code",
   "execution_count": 3,
   "metadata": {},
   "outputs": [],
   "source": [
    "df = pd.read_csv('LoanStats_2015.csv',dtype='str')"
   ]
  },
  {
   "cell_type": "code",
   "execution_count": 4,
   "metadata": {},
   "outputs": [
    {
     "data": {
      "text/plain": [
       "(421095, 145)"
      ]
     },
     "execution_count": 4,
     "metadata": {},
     "output_type": "execute_result"
    }
   ],
   "source": [
    "df.shape"
   ]
  },
  {
   "cell_type": "code",
   "execution_count": 5,
   "metadata": {
    "collapsed": true
   },
   "outputs": [],
   "source": [
    "delete_col=df.isnull().sum()[df.isnull().sum()/len(df)>0.5].index.tolist()"
   ]
  },
  {
   "cell_type": "code",
   "execution_count": 6,
   "metadata": {
    "collapsed": true
   },
   "outputs": [],
   "source": [
    "df.drop(delete_col,inplace=True,axis=1)"
   ]
  },
  {
   "cell_type": "code",
   "execution_count": 7,
   "metadata": {},
   "outputs": [],
   "source": [
    "# variables will not be used for applications model\n",
    "not_used_cols=['funded_amnt',\n",
    "'funded_amnt_inv',\n",
    "'issue_d',\n",
    "'pymnt_plan',\n",
    "'out_prncp',\n",
    "'out_prncp_inv',\n",
    "'total_pymnt',\n",
    "'total_pymnt_inv',\n",
    "'total_rec_prncp',\n",
    "'total_rec_int',\n",
    "'total_rec_late_fee',\n",
    "'recoveries',\n",
    "'collection_recovery_fee',\n",
    "'last_pymnt_d',\n",
    "'last_pymnt_amnt',\n",
    "'collections_12_mths_ex_med',\n",
    "'policy_code',\n",
    "'delinq_amnt',\n",
    "'hardship_flag',\n",
    "'debt_settlement_flag']"
   ]
  },
  {
   "cell_type": "code",
   "execution_count": 8,
   "metadata": {},
   "outputs": [],
   "source": [
    "df.drop(not_used_cols,inplace=True,axis=1)"
   ]
  },
  {
   "cell_type": "code",
   "execution_count": 12,
   "metadata": {},
   "outputs": [
    {
     "data": {
      "text/plain": [
       "(421095, 68)"
      ]
     },
     "execution_count": 12,
     "metadata": {},
     "output_type": "execute_result"
    }
   ],
   "source": [
    "df.shape"
   ]
  },
  {
   "cell_type": "code",
   "execution_count": 14,
   "metadata": {},
   "outputs": [
    {
     "data": {
      "text/plain": [
       "<matplotlib.axes._subplots.AxesSubplot at 0x20556a73668>"
      ]
     },
     "execution_count": 14,
     "metadata": {},
     "output_type": "execute_result"
    },
    {
     "data": {
      "image/png": "[encoded data removed]",
      "text/plain": [
       "<matplotlib.figure.Figure at 0x20556a737b8>"
      ]
     },
     "metadata": {},
     "output_type": "display_data"
    }
   ],
   "source": [
    "plt.figure(figsize=(25,5)) \n",
    "sns.set_context(font_scale=10)   \n",
    "sns.heatmap(df.isnull(),yticklabels=False,cbar=False,cmap='viridis',xticklabels=list(range(len(df.columns))))"
   ]
  },
  {
   "cell_type": "code",
   "execution_count": 15,
   "metadata": {},
   "outputs": [
    {
     "data": {
      "text/plain": [
       "emp_title                  23874\n",
       "title                        132\n",
       "dti                            2\n",
       "mths_since_last_delinq    203962\n",
       "revol_util                   162\n",
       "last_credit_pull_d             9\n",
       "bc_open_to_buy              3963\n",
       "bc_util                     4227\n",
       "mo_sin_old_il_acct         12254\n",
       "mths_since_recent_bc        3798\n",
       "mths_since_recent_inq      44599\n",
       "num_rev_accts                  1\n",
       "num_tl_120dpd_2m           19230\n",
       "percent_bc_gt_75            4239\n",
       "dtype: int64"
      ]
     },
     "execution_count": 15,
     "metadata": {},
     "output_type": "execute_result"
    }
   ],
   "source": [
    "df.isnull().sum()[df.isnull().sum()>0]"
   ]
  },
  {
   "cell_type": "code",
   "execution_count": 146,
   "metadata": {
    "collapsed": true
   },
   "outputs": [],
   "source": [
    "# remove units\n",
    "df.int_rate=df.int_rate.str[:-1]\n",
    "df.term=df.term.str[:3]\n",
    "# '<1 year'-->0, '10+ years'-->10\n",
    "df.emp_length[df.emp_length=='< 1 year']=0\n",
    "df.emp_length[df.emp_length=='10+ years']=10\n",
    "df.emp_length[df.emp_length=='n/a']=np.nan\n",
    "# bin loan titles with small count into Other\n",
    "df.title[df.title.isin(df.title.value_counts()[df.title.value_counts()<100].index.tolist())==True]='Other'\n",
    "# transform grade and sub_grade into ordinal numbers\n",
    "#grade=df.grade.value_counts().index.sort_values().tolist()\n",
    "#for i in range(len(grade)):\n",
    "#    df.grade[df.grade==grade[i]]=i\n",
    "#s_grade=df.sub_grade.value_counts().index.sort_values().tolist()\n",
    "#for i in range(len(s_grade)):\n",
    "#    df.sub_grade[df.sub_grade==s_grade[i]]=np.floor(i/5)+np.mod(i,5)/10*2\n",
    "# Current,Fully Paid-->not default(0), -->default(1)"
   ]
  },
  {
   "cell_type": "code",
   "execution_count": 236,
   "metadata": {},
   "outputs": [
    {
     "data": {
      "text/plain": [
       "Current               177845\n",
       "Fully Paid            172354\n",
       "Charged Off            60045\n",
       "Late (31-120 days)      6130\n",
       "In Grace Period         3227\n",
       "Late (16-30 days)       1437\n",
       "Default                   57\n",
       "Name: loan_status, dtype: int64"
      ]
     },
     "execution_count": 236,
     "metadata": {},
     "output_type": "execute_result"
    }
   ],
   "source": [
    "# good loans \n",
    "df.loan_status.value_counts()"
   ]
  },
  {
   "cell_type": "code",
   "execution_count": 17,
   "metadata": {},
   "outputs": [
    {
     "data": {
      "text/plain": [
       "debt_consolidation    250020\n",
       "credit_card           102025\n",
       "home_improvement       25293\n",
       "other                  19204\n",
       "major_purchase          7449\n",
       "medical                 3938\n",
       "car                     3466\n",
       "small_business          3364\n",
       "moving                  2420\n",
       "vacation                2249\n",
       "house                   1438\n",
       "renewable_energy         224\n",
       "wedding                    4\n",
       "educational                1\n",
       "Name: purpose, dtype: int64"
      ]
     },
     "execution_count": 17,
     "metadata": {},
     "output_type": "execute_result"
    }
   ],
   "source": [
    "df.purpose.value_counts()"
   ]
  },
  {
   "cell_type": "code",
   "execution_count": 16,
   "metadata": {},
   "outputs": [
    {
     "data": {
      "text/plain": [
       "['loan_amnt',\n",
       " 'term',\n",
       " 'int_rate',\n",
       " 'installment',\n",
       " 'grade',\n",
       " 'sub_grade',\n",
       " 'emp_title',\n",
       " 'emp_length',\n",
       " 'home_ownership',\n",
       " 'annual_inc',\n",
       " 'verification_status',\n",
       " 'loan_status',\n",
       " 'purpose',\n",
       " 'title',\n",
       " 'zip_code',\n",
       " 'addr_state',\n",
       " 'dti',\n",
       " 'delinq_2yrs',\n",
       " 'earliest_cr_line',\n",
       " 'inq_last_6mths',\n",
       " 'mths_since_last_delinq',\n",
       " 'open_acc',\n",
       " 'pub_rec',\n",
       " 'revol_bal',\n",
       " 'revol_util',\n",
       " 'total_acc',\n",
       " 'initial_list_status',\n",
       " 'last_credit_pull_d',\n",
       " 'application_type',\n",
       " 'acc_now_delinq',\n",
       " 'tot_coll_amt',\n",
       " 'tot_cur_bal',\n",
       " 'total_rev_hi_lim',\n",
       " 'acc_open_past_24mths',\n",
       " 'avg_cur_bal',\n",
       " 'bc_open_to_buy',\n",
       " 'bc_util',\n",
       " 'chargeoff_within_12_mths',\n",
       " 'mo_sin_old_il_acct',\n",
       " 'mo_sin_old_rev_tl_op',\n",
       " 'mo_sin_rcnt_rev_tl_op',\n",
       " 'mo_sin_rcnt_tl',\n",
       " 'mort_acc',\n",
       " 'mths_since_recent_bc',\n",
       " 'mths_since_recent_inq',\n",
       " 'num_accts_ever_120_pd',\n",
       " 'num_actv_bc_tl',\n",
       " 'num_actv_rev_tl',\n",
       " 'num_bc_sats',\n",
       " 'num_bc_tl',\n",
       " 'num_il_tl',\n",
       " 'num_op_rev_tl',\n",
       " 'num_rev_accts',\n",
       " 'num_rev_tl_bal_gt_0',\n",
       " 'num_sats',\n",
       " 'num_tl_120dpd_2m',\n",
       " 'num_tl_30dpd',\n",
       " 'num_tl_90g_dpd_24m',\n",
       " 'num_tl_op_past_12m',\n",
       " 'pct_tl_nvr_dlq',\n",
       " 'percent_bc_gt_75',\n",
       " 'pub_rec_bankruptcies',\n",
       " 'tax_liens',\n",
       " 'tot_hi_cred_lim',\n",
       " 'total_bal_ex_mort',\n",
       " 'total_bc_limit',\n",
       " 'total_il_high_credit_limit',\n",
       " 'disbursement_method']"
      ]
     },
     "execution_count": 16,
     "metadata": {},
     "output_type": "execute_result"
    }
   ],
   "source": [
    "df.columns.tolist()"
   ]
  },
  {
   "cell_type": "code",
   "execution_count": 34,
   "metadata": {},
   "outputs": [
    {
     "data": {
      "text/html": [
       "<div>\n",
       "<style>\n",
       "    .dataframe thead tr:only-child th {\n",
       "        text-align: right;\n",
       "    }\n",
       "\n",
       "    .dataframe thead th {\n",
       "        text-align: left;\n",
       "    }\n",
       "\n",
       "    .dataframe tbody tr th {\n",
       "        vertical-align: top;\n",
       "    }\n",
       "</style>\n",
       "<table border=\"1\" class=\"dataframe\">\n",
       "  <thead>\n",
       "    <tr style=\"text-align: right;\">\n",
       "      <th></th>\n",
       "      <th>loan_amnt</th>\n",
       "      <th>funded_amnt</th>\n",
       "      <th>funded_amnt_inv</th>\n",
       "      <th>term</th>\n",
       "      <th>int_rate</th>\n",
       "      <th>installment</th>\n",
       "      <th>grade</th>\n",
       "      <th>sub_grade</th>\n",
       "      <th>emp_title</th>\n",
       "      <th>emp_length</th>\n",
       "      <th>...</th>\n",
       "      <th>percent_bc_gt_75</th>\n",
       "      <th>pub_rec_bankruptcies</th>\n",
       "      <th>tax_liens</th>\n",
       "      <th>tot_hi_cred_lim</th>\n",
       "      <th>total_bal_ex_mort</th>\n",
       "      <th>total_bc_limit</th>\n",
       "      <th>total_il_high_credit_limit</th>\n",
       "      <th>hardship_flag</th>\n",
       "      <th>disbursement_method</th>\n",
       "      <th>debt_settlement_flag</th>\n",
       "    </tr>\n",
       "  </thead>\n",
       "  <tbody>\n",
       "    <tr>\n",
       "      <th>1</th>\n",
       "      <td>23100</td>\n",
       "      <td>23100</td>\n",
       "      <td>23100</td>\n",
       "      <td>60</td>\n",
       "      <td>20.50%</td>\n",
       "      <td>618.46</td>\n",
       "      <td>E</td>\n",
       "      <td>E4</td>\n",
       "      <td>Regional Sales Direcdtor</td>\n",
       "      <td>2 years</td>\n",
       "      <td>...</td>\n",
       "      <td>85.7</td>\n",
       "      <td>0</td>\n",
       "      <td>0</td>\n",
       "      <td>102524</td>\n",
       "      <td>55048</td>\n",
       "      <td>21700</td>\n",
       "      <td>80824</td>\n",
       "      <td>N</td>\n",
       "      <td>Cash</td>\n",
       "      <td>N</td>\n",
       "    </tr>\n",
       "    <tr>\n",
       "      <th>2</th>\n",
       "      <td>24250</td>\n",
       "      <td>24250</td>\n",
       "      <td>24250</td>\n",
       "      <td>60</td>\n",
       "      <td>24.24%</td>\n",
       "      <td>701.01</td>\n",
       "      <td>F</td>\n",
       "      <td>F3</td>\n",
       "      <td>hvac technician</td>\n",
       "      <td>4 years</td>\n",
       "      <td>...</td>\n",
       "      <td>63.6</td>\n",
       "      <td>0</td>\n",
       "      <td>0</td>\n",
       "      <td>344960</td>\n",
       "      <td>38475</td>\n",
       "      <td>29100</td>\n",
       "      <td>18300</td>\n",
       "      <td>N</td>\n",
       "      <td>Cash</td>\n",
       "      <td>N</td>\n",
       "    </tr>\n",
       "    <tr>\n",
       "      <th>22</th>\n",
       "      <td>16000</td>\n",
       "      <td>16000</td>\n",
       "      <td>16000</td>\n",
       "      <td>60</td>\n",
       "      <td>13.44%</td>\n",
       "      <td>367.67</td>\n",
       "      <td>C</td>\n",
       "      <td>C3</td>\n",
       "      <td>Merchandise Manager</td>\n",
       "      <td>1 year</td>\n",
       "      <td>...</td>\n",
       "      <td>30.8</td>\n",
       "      <td>0</td>\n",
       "      <td>0</td>\n",
       "      <td>87509</td>\n",
       "      <td>83690</td>\n",
       "      <td>23900</td>\n",
       "      <td>61109</td>\n",
       "      <td>N</td>\n",
       "      <td>Cash</td>\n",
       "      <td>N</td>\n",
       "    </tr>\n",
       "    <tr>\n",
       "      <th>38</th>\n",
       "      <td>27300</td>\n",
       "      <td>27300</td>\n",
       "      <td>27300</td>\n",
       "      <td>36</td>\n",
       "      <td>17.27%</td>\n",
       "      <td>977</td>\n",
       "      <td>D</td>\n",
       "      <td>D3</td>\n",
       "      <td>groundsman</td>\n",
       "      <td>10+ years</td>\n",
       "      <td>...</td>\n",
       "      <td>85.7</td>\n",
       "      <td>0</td>\n",
       "      <td>0</td>\n",
       "      <td>253900</td>\n",
       "      <td>60982</td>\n",
       "      <td>32000</td>\n",
       "      <td>37192</td>\n",
       "      <td>N</td>\n",
       "      <td>Cash</td>\n",
       "      <td>N</td>\n",
       "    </tr>\n",
       "    <tr>\n",
       "      <th>40</th>\n",
       "      <td>10000</td>\n",
       "      <td>10000</td>\n",
       "      <td>10000</td>\n",
       "      <td>60</td>\n",
       "      <td>17.97%</td>\n",
       "      <td>253.78</td>\n",
       "      <td>D</td>\n",
       "      <td>D4</td>\n",
       "      <td>Educator</td>\n",
       "      <td>2 years</td>\n",
       "      <td>...</td>\n",
       "      <td>100</td>\n",
       "      <td>0</td>\n",
       "      <td>0</td>\n",
       "      <td>302401</td>\n",
       "      <td>71518</td>\n",
       "      <td>11000</td>\n",
       "      <td>34953</td>\n",
       "      <td>N</td>\n",
       "      <td>Cash</td>\n",
       "      <td>N</td>\n",
       "    </tr>\n",
       "  </tbody>\n",
       "</table>\n",
       "<p>5 rows × 88 columns</p>\n",
       "</div>"
      ],
      "text/plain": [
       "   loan_amnt funded_amnt funded_amnt_inv term int_rate installment grade  \\\n",
       "1      23100       23100           23100   60   20.50%      618.46     E   \n",
       "2      24250       24250           24250   60   24.24%      701.01     F   \n",
       "22     16000       16000           16000   60   13.44%      367.67     C   \n",
       "38     27300       27300           27300   36   17.27%         977     D   \n",
       "40     10000       10000           10000   60   17.97%      253.78     D   \n",
       "\n",
       "   sub_grade                 emp_title emp_length         ...           \\\n",
       "1         E4  Regional Sales Direcdtor    2 years         ...            \n",
       "2         F3           hvac technician    4 years         ...            \n",
       "22        C3       Merchandise Manager     1 year         ...            \n",
       "38        D3                groundsman  10+ years         ...            \n",
       "40        D4                 Educator     2 years         ...            \n",
       "\n",
       "   percent_bc_gt_75 pub_rec_bankruptcies tax_liens tot_hi_cred_lim  \\\n",
       "1              85.7                    0         0          102524   \n",
       "2              63.6                    0         0          344960   \n",
       "22             30.8                    0         0           87509   \n",
       "38             85.7                    0         0          253900   \n",
       "40              100                    0         0          302401   \n",
       "\n",
       "   total_bal_ex_mort total_bc_limit total_il_high_credit_limit hardship_flag  \\\n",
       "1              55048          21700                      80824             N   \n",
       "2              38475          29100                      18300             N   \n",
       "22             83690          23900                      61109             N   \n",
       "38             60982          32000                      37192             N   \n",
       "40             71518          11000                      34953             N   \n",
       "\n",
       "   disbursement_method debt_settlement_flag  \n",
       "1                 Cash                    N  \n",
       "2                 Cash                    N  \n",
       "22                Cash                    N  \n",
       "38                Cash                    N  \n",
       "40                Cash                    N  \n",
       "\n",
       "[5 rows x 88 columns]"
      ]
     },
     "execution_count": 34,
     "metadata": {},
     "output_type": "execute_result"
    }
   ],
   "source": [
    "dff.head()"
   ]
  },
  {
   "cell_type": "code",
   "execution_count": null,
   "metadata": {
    "collapsed": true
   },
   "outputs": [],
   "source": []
  },
  {
   "cell_type": "code",
   "execution_count": null,
   "metadata": {
    "collapsed": true
   },
   "outputs": [],
   "source": []
  },
  {
   "cell_type": "code",
   "execution_count": null,
   "metadata": {
    "collapsed": true
   },
   "outputs": [],
   "source": []
  },
  {
   "cell_type": "code",
   "execution_count": 95,
   "metadata": {
    "collapsed": true
   },
   "outputs": [],
   "source": [
    "dff1=pd.read_excel('LCDataDictionary.xlsx',sheetname='LoanStats')\n",
    "dff2=pd.read_excel('LCDataDictionary.xlsx',sheetname='browseNotes')"
   ]
  },
  {
   "cell_type": "code",
   "execution_count": 126,
   "metadata": {},
   "outputs": [],
   "source": [
    "dff1.LoanStatNew=dff1.LoanStatNew.str.strip()\n",
    "dff2.BrowseNotesFile=dff2.BrowseNotesFile.str.strip()"
   ]
  },
  {
   "cell_type": "code",
   "execution_count": 127,
   "metadata": {},
   "outputs": [
    {
     "name": "stdout",
     "output_type": "stream",
     "text": [
      "verification_status_joint\n"
     ]
    }
   ],
   "source": [
    "for i in delete_col:\n",
    "    if i not in dff1['LoanStatNew'].values:\n",
    "        if i not in dff2['BrowseNotesFile'].values:\n",
    "            "
   ]
  },
  {
   "cell_type": "code",
   "execution_count": 128,
   "metadata": {
    "collapsed": true
   },
   "outputs": [
    {
     "ename": "ValueError",
     "evalue": "Arrays were different lengths: 145 vs 57",
     "output_type": "error",
     "traceback": [
      "\u001b[1;31m---------------------------------------------------------------------------\u001b[0m",
      "\u001b[1;31mValueError\u001b[0m                                Traceback (most recent call last)",
      "\u001b[1;32m<ipython-input-128-244815a09e5f>\u001b[0m in \u001b[0;36m<module>\u001b[1;34m()\u001b[0m\n\u001b[1;32m----> 1\u001b[1;33m \u001b[0mdf\u001b[0m\u001b[1;33m.\u001b[0m\u001b[0mcolumns\u001b[0m\u001b[1;33m!=\u001b[0m\u001b[0mdelete_col\u001b[0m\u001b[1;33m\u001b[0m\u001b[0m\n\u001b[0m",
      "\u001b[1;32m~\\Anaconda3\\lib\\site-packages\\pandas\\core\\indexes\\base.py\u001b[0m in \u001b[0;36m_evaluate_compare\u001b[1;34m(self, other)\u001b[0m\n\u001b[0;32m   3721\u001b[0m                     \u001b[1;32mwith\u001b[0m \u001b[0mnp\u001b[0m\u001b[1;33m.\u001b[0m\u001b[0merrstate\u001b[0m\u001b[1;33m(\u001b[0m\u001b[0mall\u001b[0m\u001b[1;33m=\u001b[0m\u001b[1;34m'ignore'\u001b[0m\u001b[1;33m)\u001b[0m\u001b[1;33m:\u001b[0m\u001b[1;33m\u001b[0m\u001b[0m\n\u001b[0;32m   3722\u001b[0m                         result = _comp_method_OBJECT_ARRAY(\n\u001b[1;32m-> 3723\u001b[1;33m                             op, self.values, other)\n\u001b[0m\u001b[0;32m   3724\u001b[0m                 \u001b[1;32melse\u001b[0m\u001b[1;33m:\u001b[0m\u001b[1;33m\u001b[0m\u001b[0m\n\u001b[0;32m   3725\u001b[0m                     \u001b[1;32mwith\u001b[0m \u001b[0mnp\u001b[0m\u001b[1;33m.\u001b[0m\u001b[0merrstate\u001b[0m\u001b[1;33m(\u001b[0m\u001b[0mall\u001b[0m\u001b[1;33m=\u001b[0m\u001b[1;34m'ignore'\u001b[0m\u001b[1;33m)\u001b[0m\u001b[1;33m:\u001b[0m\u001b[1;33m\u001b[0m\u001b[0m\n",
      "\u001b[1;32m~\\Anaconda3\\lib\\site-packages\\pandas\\core\\ops.py\u001b[0m in \u001b[0;36m_comp_method_OBJECT_ARRAY\u001b[1;34m(op, x, y)\u001b[0m\n\u001b[0;32m    741\u001b[0m             \u001b[0my\u001b[0m \u001b[1;33m=\u001b[0m \u001b[0my\u001b[0m\u001b[1;33m.\u001b[0m\u001b[0mvalues\u001b[0m\u001b[1;33m\u001b[0m\u001b[0m\n\u001b[0;32m    742\u001b[0m \u001b[1;33m\u001b[0m\u001b[0m\n\u001b[1;32m--> 743\u001b[1;33m         \u001b[0mresult\u001b[0m \u001b[1;33m=\u001b[0m \u001b[0mlib\u001b[0m\u001b[1;33m.\u001b[0m\u001b[0mvec_compare\u001b[0m\u001b[1;33m(\u001b[0m\u001b[0mx\u001b[0m\u001b[1;33m,\u001b[0m \u001b[0my\u001b[0m\u001b[1;33m,\u001b[0m \u001b[0mop\u001b[0m\u001b[1;33m)\u001b[0m\u001b[1;33m\u001b[0m\u001b[0m\n\u001b[0m\u001b[0;32m    744\u001b[0m     \u001b[1;32melse\u001b[0m\u001b[1;33m:\u001b[0m\u001b[1;33m\u001b[0m\u001b[0m\n\u001b[0;32m    745\u001b[0m         \u001b[0mresult\u001b[0m \u001b[1;33m=\u001b[0m \u001b[0mlib\u001b[0m\u001b[1;33m.\u001b[0m\u001b[0mscalar_compare\u001b[0m\u001b[1;33m(\u001b[0m\u001b[0mx\u001b[0m\u001b[1;33m,\u001b[0m \u001b[0my\u001b[0m\u001b[1;33m,\u001b[0m \u001b[0mop\u001b[0m\u001b[1;33m)\u001b[0m\u001b[1;33m\u001b[0m\u001b[0m\n",
      "\u001b[1;32mpandas\\_libs\\lib.pyx\u001b[0m in \u001b[0;36mpandas._libs.lib.vec_compare\u001b[1;34m()\u001b[0m\n",
      "\u001b[1;31mValueError\u001b[0m: Arrays were different lengths: 145 vs 57"
     ]
    }
   ],
   "source": [
    "df.columns.tolist() "
   ]
  },
  {
   "cell_type": "code",
   "execution_count": 91,
   "metadata": {},
   "outputs": [
    {
     "data": {
      "text/plain": [
       "LoanStatNew                                      settlement_term\n",
       "Description    The number of months that the borrower will be...\n",
       "Name: 150, dtype: object"
      ]
     },
     "execution_count": 91,
     "metadata": {},
     "output_type": "execute_result"
    }
   ],
   "source": [
    "dfff.iloc[-3]"
   ]
  },
  {
   "cell_type": "code",
   "execution_count": 57,
   "metadata": {
    "collapsed": true
   },
   "outputs": [],
   "source": [
    "ind_keep=[]\n",
    "ind_del=[]\n",
    "for i in range(len(dff)):\n",
    "    if dff.iloc[i,0] in delete_col:\n",
    "        ind_del.append(i)\n",
    "    else:\n",
    "        ind_keep.append(i)"
   ]
  },
  {
   "cell_type": "code",
   "execution_count": 59,
   "metadata": {},
   "outputs": [
    {
     "data": {
      "text/plain": [
       "46"
      ]
     },
     "execution_count": 59,
     "metadata": {},
     "output_type": "execute_result"
    }
   ],
   "source": [
    "len(ind_del)"
   ]
  },
  {
   "cell_type": "code",
   "execution_count": 60,
   "metadata": {},
   "outputs": [
    {
     "data": {
      "text/plain": [
       "107"
      ]
     },
     "execution_count": 60,
     "metadata": {},
     "output_type": "execute_result"
    }
   ],
   "source": [
    "len(ind_keep)"
   ]
  },
  {
   "cell_type": "code",
   "execution_count": 69,
   "metadata": {},
   "outputs": [],
   "source": [
    "dff.iloc[ind_del].to_csv('LendingClub_dict_del.csv',index=False)\n",
    "dff.iloc[ind_keep].to_csv('LendingClub_dict_keep.csv',index=False)"
   ]
  }
 ],
 "metadata": {
  "kernelspec": {
   "display_name": "Python 3",
   "language": "python",
   "name": "python3"
  },
  "language_info": {
   "codemirror_mode": {
    "name": "ipython",
    "version": 3
   },
   "file_extension": ".py",
   "mimetype": "text/x-python",
   "name": "python",
   "nbconvert_exporter": "python",
   "pygments_lexer": "ipython3",
   "version": "3.6.3"
  }
 },
 "nbformat": 4,
 "nbformat_minor": 2
}
