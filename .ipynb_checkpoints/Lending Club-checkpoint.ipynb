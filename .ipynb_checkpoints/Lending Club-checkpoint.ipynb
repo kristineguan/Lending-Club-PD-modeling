{
 "cells": [
  {
   "cell_type": "code",
   "execution_count": 1,
   "metadata": {},
   "outputs": [],
   "source": [
    "import dask.dataframe as dd\n",
    "import pandas as pd\n",
    "import numpy as np\n",
    "import os\n",
    "import matplotlib.pyplot as plt\n",
    "import seaborn as sns\n",
    "%matplotlib inline"
   ]
  },
  {
   "cell_type": "code",
   "execution_count": 2,
   "metadata": {
    "collapsed": true
   },
   "outputs": [],
   "source": [
    "os.chdir('E:\\personal project\\Lending Club')"
   ]
  },
  {
   "cell_type": "code",
   "execution_count": 3,
   "metadata": {
    "collapsed": true
   },
   "outputs": [],
   "source": [
    "df = dd.read_csv('LoanStats_2015.csv',dtype='str')"
   ]
  },
  {
   "cell_type": "code",
   "execution_count": 4,
   "metadata": {},
   "outputs": [
    {
     "data": {
      "text/plain": [
       "Current               177845\n",
       "Fully Paid            172354\n",
       "Charged Off            60045\n",
       "Late (31-120 days)      6130\n",
       "In Grace Period         3227\n",
       "Late (16-30 days)       1437\n",
       "Default                   57\n",
       "Name: loan_status, dtype: int64"
      ]
     },
     "execution_count": 4,
     "metadata": {},
     "output_type": "execute_result"
    }
   ],
   "source": [
    "df.loan_status.value_counts().compute()"
   ]
  },
  {
   "cell_type": "code",
   "execution_count": 5,
   "metadata": {},
   "outputs": [],
   "source": [
    "dff=df[df.loan_status.isin(['Charged Off','Late (31-120 days),','Default'])].compute()"
   ]
  },
  {
   "cell_type": "code",
   "execution_count": 6,
   "metadata": {},
   "outputs": [
    {
     "data": {
      "text/plain": [
       "(60102, 145)"
      ]
     },
     "execution_count": 6,
     "metadata": {},
     "output_type": "execute_result"
    }
   ],
   "source": [
    "dff.shape"
   ]
  },
  {
   "cell_type": "code",
   "execution_count": 7,
   "metadata": {},
   "outputs": [],
   "source": [
    "delete_col=dff.isnull().sum()[dff.isnull().sum()>30000].index.tolist()"
   ]
  },
  {
   "cell_type": "code",
   "execution_count": 15,
   "metadata": {},
   "outputs": [
    {
     "data": {
      "text/plain": [
       "['id',\n",
       " 'member_id',\n",
       " 'url',\n",
       " 'desc',\n",
       " 'mths_since_last_record',\n",
       " 'next_pymnt_d',\n",
       " 'mths_since_last_major_derog',\n",
       " 'annual_inc_joint',\n",
       " 'dti_joint',\n",
       " 'verification_status_joint',\n",
       " 'open_acc_6m',\n",
       " 'open_act_il',\n",
       " 'open_il_12m',\n",
       " 'open_il_24m',\n",
       " 'mths_since_rcnt_il',\n",
       " 'total_bal_il',\n",
       " 'il_util',\n",
       " 'open_rv_12m',\n",
       " 'open_rv_24m',\n",
       " 'max_bal_bc',\n",
       " 'all_util',\n",
       " 'inq_fi',\n",
       " 'total_cu_tl',\n",
       " 'inq_last_12m',\n",
       " 'mths_since_recent_bc_dlq',\n",
       " 'mths_since_recent_revol_delinq',\n",
       " 'revol_bal_joint',\n",
       " 'sec_app_earliest_cr_line',\n",
       " 'sec_app_inq_last_6mths',\n",
       " 'sec_app_mort_acc',\n",
       " 'sec_app_open_acc',\n",
       " 'sec_app_revol_util',\n",
       " 'sec_app_open_act_il',\n",
       " 'sec_app_num_rev_accts',\n",
       " 'sec_app_chargeoff_within_12_mths',\n",
       " 'sec_app_collections_12_mths_ex_med',\n",
       " 'sec_app_mths_since_last_major_derog',\n",
       " 'hardship_type',\n",
       " 'hardship_reason',\n",
       " 'hardship_status',\n",
       " 'deferral_term',\n",
       " 'hardship_amount',\n",
       " 'hardship_start_date',\n",
       " 'hardship_end_date',\n",
       " 'payment_plan_start_date',\n",
       " 'hardship_length',\n",
       " 'hardship_dpd',\n",
       " 'hardship_loan_status',\n",
       " 'orig_projected_additional_accrued_interest',\n",
       " 'hardship_payoff_balance_amount',\n",
       " 'hardship_last_payment_amount',\n",
       " 'debt_settlement_flag_date',\n",
       " 'settlement_status',\n",
       " 'settlement_date',\n",
       " 'settlement_amount',\n",
       " 'settlement_percentage',\n",
       " 'settlement_term']"
      ]
     },
     "execution_count": 15,
     "metadata": {},
     "output_type": "execute_result"
    }
   ],
   "source": [
    "delete_col"
   ]
  },
  {
   "cell_type": "code",
   "execution_count": 8,
   "metadata": {},
   "outputs": [],
   "source": [
    "dff.drop(delete_col,inplace=True,axis=1)"
   ]
  },
  {
   "cell_type": "code",
   "execution_count": 9,
   "metadata": {},
   "outputs": [
    {
     "data": {
      "text/plain": [
       "<matplotlib.axes._subplots.AxesSubplot at 0x2419ef3d6a0>"
      ]
     },
     "execution_count": 9,
     "metadata": {},
     "output_type": "execute_result"
    },
    {
     "data": {
      "image/png": "[encoded data removed]",
      "text/plain": [
       "<matplotlib.figure.Figure at 0x241bdc99668>"
      ]
     },
     "metadata": {},
     "output_type": "display_data"
    }
   ],
   "source": [
    "plt.figure(figsize=(25,5)) \n",
    "sns.set_context(font_scale=10)   \n",
    "sns.heatmap(dff.isnull(),yticklabels=False,cbar=False,cmap='viridis',xticklabels=list(range(145)))"
   ]
  },
  {
   "cell_type": "code",
   "execution_count": 14,
   "metadata": {},
   "outputs": [
    {
     "data": {
      "text/plain": [
       "0.47020065887990414"
      ]
     },
     "execution_count": 14,
     "metadata": {},
     "output_type": "execute_result"
    }
   ],
   "source": [
    "28260/len(dff)"
   ]
  },
  {
   "cell_type": "code",
   "execution_count": 16,
   "metadata": {},
   "outputs": [
    {
     "data": {
      "text/plain": [
       "emp_title                  4389\n",
       "title                        10\n",
       "dti                           1\n",
       "mths_since_last_delinq    28260\n",
       "revol_util                   25\n",
       "last_pymnt_d                294\n",
       "last_credit_pull_d            1\n",
       "bc_open_to_buy              638\n",
       "bc_util                     677\n",
       "mo_sin_old_il_acct         1723\n",
       "mths_since_recent_bc        613\n",
       "mths_since_recent_inq      3986\n",
       "num_tl_120dpd_2m           3182\n",
       "percent_bc_gt_75            683\n",
       "dtype: int64"
      ]
     },
     "execution_count": 16,
     "metadata": {},
     "output_type": "execute_result"
    }
   ],
   "source": [
    "dff.isnull().sum()[dff.isnull().sum()>0]"
   ]
  },
  {
   "cell_type": "code",
   "execution_count": 32,
   "metadata": {},
   "outputs": [],
   "source": [
    "#remove units\n",
    "dff.int_rate=dff.int_rate.str[:-1]\n",
    "dff.term=dff.term.str[:3]"
   ]
  },
  {
   "cell_type": "code",
   "execution_count": 33,
   "metadata": {
    "collapsed": true
   },
   "outputs": [
    {
     "data": {
      "text/plain": [
       "1         60\n",
       "2         60\n",
       "22        60\n",
       "38        36\n",
       "40        60\n",
       "52        36\n",
       "75        60\n",
       "88        60\n",
       "96        36\n",
       "106       60\n",
       "108       60\n",
       "114       36\n",
       "116       60\n",
       "137       36\n",
       "142       36\n",
       "152       36\n",
       "182       60\n",
       "186       60\n",
       "194       60\n",
       "199       60\n",
       "200       60\n",
       "206       60\n",
       "211       60\n",
       "212       36\n",
       "224       36\n",
       "230       60\n",
       "232       36\n",
       "241       36\n",
       "254       36\n",
       "265       60\n",
       "        ... \n",
       "23470     36\n",
       "23476     60\n",
       "23478     36\n",
       "23480     36\n",
       "23483     60\n",
       "23484     60\n",
       "23486     36\n",
       "23491     60\n",
       "23492     36\n",
       "23495     60\n",
       "23497     36\n",
       "23502     60\n",
       "23507     60\n",
       "23512     36\n",
       "23516     60\n",
       "23518     36\n",
       "23523     36\n",
       "23528     60\n",
       "23535     60\n",
       "23541     36\n",
       "23543     60\n",
       "23551     60\n",
       "23552     36\n",
       "23554     36\n",
       "23562     36\n",
       "23570     60\n",
       "23580     36\n",
       "23582     36\n",
       "23586     60\n",
       "23587     60\n",
       "Name: term, Length: 60102, dtype: object"
      ]
     },
     "execution_count": 33,
     "metadata": {},
     "output_type": "execute_result"
    }
   ],
   "source": [
    "dff.term"
   ]
  },
  {
   "cell_type": "code",
   "execution_count": 37,
   "metadata": {},
   "outputs": [
    {
     "data": {
      "text/plain": [
       "10+ years    18482\n",
       "2 years       5410\n",
       "< 1 year      5071\n",
       "3 years       4791\n",
       "n/a           4385\n",
       "1 year        4229\n",
       "5 years       3571\n",
       "4 years       3566\n",
       "8 years       3109\n",
       "7 years       2672\n",
       "9 years       2415\n",
       "6 years       2401\n",
       "Name: emp_length, dtype: int64"
      ]
     },
     "execution_count": 37,
     "metadata": {},
     "output_type": "execute_result"
    }
   ],
   "source": [
    "dff.emp_length.value_counts()"
   ]
  },
  {
   "cell_type": "code",
   "execution_count": 34,
   "metadata": {},
   "outputs": [
    {
     "data": {
      "text/html": [
       "<div>\n",
       "<style>\n",
       "    .dataframe thead tr:only-child th {\n",
       "        text-align: right;\n",
       "    }\n",
       "\n",
       "    .dataframe thead th {\n",
       "        text-align: left;\n",
       "    }\n",
       "\n",
       "    .dataframe tbody tr th {\n",
       "        vertical-align: top;\n",
       "    }\n",
       "</style>\n",
       "<table border=\"1\" class=\"dataframe\">\n",
       "  <thead>\n",
       "    <tr style=\"text-align: right;\">\n",
       "      <th></th>\n",
       "      <th>loan_amnt</th>\n",
       "      <th>funded_amnt</th>\n",
       "      <th>funded_amnt_inv</th>\n",
       "      <th>term</th>\n",
       "      <th>int_rate</th>\n",
       "      <th>installment</th>\n",
       "      <th>grade</th>\n",
       "      <th>sub_grade</th>\n",
       "      <th>emp_title</th>\n",
       "      <th>emp_length</th>\n",
       "      <th>...</th>\n",
       "      <th>percent_bc_gt_75</th>\n",
       "      <th>pub_rec_bankruptcies</th>\n",
       "      <th>tax_liens</th>\n",
       "      <th>tot_hi_cred_lim</th>\n",
       "      <th>total_bal_ex_mort</th>\n",
       "      <th>total_bc_limit</th>\n",
       "      <th>total_il_high_credit_limit</th>\n",
       "      <th>hardship_flag</th>\n",
       "      <th>disbursement_method</th>\n",
       "      <th>debt_settlement_flag</th>\n",
       "    </tr>\n",
       "  </thead>\n",
       "  <tbody>\n",
       "    <tr>\n",
       "      <th>1</th>\n",
       "      <td>23100</td>\n",
       "      <td>23100</td>\n",
       "      <td>23100</td>\n",
       "      <td>60</td>\n",
       "      <td>20.50%</td>\n",
       "      <td>618.46</td>\n",
       "      <td>E</td>\n",
       "      <td>E4</td>\n",
       "      <td>Regional Sales Direcdtor</td>\n",
       "      <td>2 years</td>\n",
       "      <td>...</td>\n",
       "      <td>85.7</td>\n",
       "      <td>0</td>\n",
       "      <td>0</td>\n",
       "      <td>102524</td>\n",
       "      <td>55048</td>\n",
       "      <td>21700</td>\n",
       "      <td>80824</td>\n",
       "      <td>N</td>\n",
       "      <td>Cash</td>\n",
       "      <td>N</td>\n",
       "    </tr>\n",
       "    <tr>\n",
       "      <th>2</th>\n",
       "      <td>24250</td>\n",
       "      <td>24250</td>\n",
       "      <td>24250</td>\n",
       "      <td>60</td>\n",
       "      <td>24.24%</td>\n",
       "      <td>701.01</td>\n",
       "      <td>F</td>\n",
       "      <td>F3</td>\n",
       "      <td>hvac technician</td>\n",
       "      <td>4 years</td>\n",
       "      <td>...</td>\n",
       "      <td>63.6</td>\n",
       "      <td>0</td>\n",
       "      <td>0</td>\n",
       "      <td>344960</td>\n",
       "      <td>38475</td>\n",
       "      <td>29100</td>\n",
       "      <td>18300</td>\n",
       "      <td>N</td>\n",
       "      <td>Cash</td>\n",
       "      <td>N</td>\n",
       "    </tr>\n",
       "    <tr>\n",
       "      <th>22</th>\n",
       "      <td>16000</td>\n",
       "      <td>16000</td>\n",
       "      <td>16000</td>\n",
       "      <td>60</td>\n",
       "      <td>13.44%</td>\n",
       "      <td>367.67</td>\n",
       "      <td>C</td>\n",
       "      <td>C3</td>\n",
       "      <td>Merchandise Manager</td>\n",
       "      <td>1 year</td>\n",
       "      <td>...</td>\n",
       "      <td>30.8</td>\n",
       "      <td>0</td>\n",
       "      <td>0</td>\n",
       "      <td>87509</td>\n",
       "      <td>83690</td>\n",
       "      <td>23900</td>\n",
       "      <td>61109</td>\n",
       "      <td>N</td>\n",
       "      <td>Cash</td>\n",
       "      <td>N</td>\n",
       "    </tr>\n",
       "    <tr>\n",
       "      <th>38</th>\n",
       "      <td>27300</td>\n",
       "      <td>27300</td>\n",
       "      <td>27300</td>\n",
       "      <td>36</td>\n",
       "      <td>17.27%</td>\n",
       "      <td>977</td>\n",
       "      <td>D</td>\n",
       "      <td>D3</td>\n",
       "      <td>groundsman</td>\n",
       "      <td>10+ years</td>\n",
       "      <td>...</td>\n",
       "      <td>85.7</td>\n",
       "      <td>0</td>\n",
       "      <td>0</td>\n",
       "      <td>253900</td>\n",
       "      <td>60982</td>\n",
       "      <td>32000</td>\n",
       "      <td>37192</td>\n",
       "      <td>N</td>\n",
       "      <td>Cash</td>\n",
       "      <td>N</td>\n",
       "    </tr>\n",
       "    <tr>\n",
       "      <th>40</th>\n",
       "      <td>10000</td>\n",
       "      <td>10000</td>\n",
       "      <td>10000</td>\n",
       "      <td>60</td>\n",
       "      <td>17.97%</td>\n",
       "      <td>253.78</td>\n",
       "      <td>D</td>\n",
       "      <td>D4</td>\n",
       "      <td>Educator</td>\n",
       "      <td>2 years</td>\n",
       "      <td>...</td>\n",
       "      <td>100</td>\n",
       "      <td>0</td>\n",
       "      <td>0</td>\n",
       "      <td>302401</td>\n",
       "      <td>71518</td>\n",
       "      <td>11000</td>\n",
       "      <td>34953</td>\n",
       "      <td>N</td>\n",
       "      <td>Cash</td>\n",
       "      <td>N</td>\n",
       "    </tr>\n",
       "  </tbody>\n",
       "</table>\n",
       "<p>5 rows × 88 columns</p>\n",
       "</div>"
      ],
      "text/plain": [
       "   loan_amnt funded_amnt funded_amnt_inv term int_rate installment grade  \\\n",
       "1      23100       23100           23100   60   20.50%      618.46     E   \n",
       "2      24250       24250           24250   60   24.24%      701.01     F   \n",
       "22     16000       16000           16000   60   13.44%      367.67     C   \n",
       "38     27300       27300           27300   36   17.27%         977     D   \n",
       "40     10000       10000           10000   60   17.97%      253.78     D   \n",
       "\n",
       "   sub_grade                 emp_title emp_length         ...           \\\n",
       "1         E4  Regional Sales Direcdtor    2 years         ...            \n",
       "2         F3           hvac technician    4 years         ...            \n",
       "22        C3       Merchandise Manager     1 year         ...            \n",
       "38        D3                groundsman  10+ years         ...            \n",
       "40        D4                 Educator     2 years         ...            \n",
       "\n",
       "   percent_bc_gt_75 pub_rec_bankruptcies tax_liens tot_hi_cred_lim  \\\n",
       "1              85.7                    0         0          102524   \n",
       "2              63.6                    0         0          344960   \n",
       "22             30.8                    0         0           87509   \n",
       "38             85.7                    0         0          253900   \n",
       "40              100                    0         0          302401   \n",
       "\n",
       "   total_bal_ex_mort total_bc_limit total_il_high_credit_limit hardship_flag  \\\n",
       "1              55048          21700                      80824             N   \n",
       "2              38475          29100                      18300             N   \n",
       "22             83690          23900                      61109             N   \n",
       "38             60982          32000                      37192             N   \n",
       "40             71518          11000                      34953             N   \n",
       "\n",
       "   disbursement_method debt_settlement_flag  \n",
       "1                 Cash                    N  \n",
       "2                 Cash                    N  \n",
       "22                Cash                    N  \n",
       "38                Cash                    N  \n",
       "40                Cash                    N  \n",
       "\n",
       "[5 rows x 88 columns]"
      ]
     },
     "execution_count": 34,
     "metadata": {},
     "output_type": "execute_result"
    }
   ],
   "source": [
    "dff.head()"
   ]
  },
  {
   "cell_type": "code",
   "execution_count": 18,
   "metadata": {},
   "outputs": [
    {
     "data": {
      "text/plain": [
       "['loan_amnt',\n",
       " 'funded_amnt',\n",
       " 'funded_amnt_inv',\n",
       " 'term',\n",
       " 'int_rate',\n",
       " 'installment',\n",
       " 'grade',\n",
       " 'sub_grade',\n",
       " 'emp_title',\n",
       " 'emp_length',\n",
       " 'home_ownership',\n",
       " 'annual_inc',\n",
       " 'verification_status',\n",
       " 'issue_d',\n",
       " 'loan_status',\n",
       " 'pymnt_plan',\n",
       " 'purpose',\n",
       " 'title',\n",
       " 'zip_code',\n",
       " 'addr_state',\n",
       " 'dti',\n",
       " 'delinq_2yrs',\n",
       " 'earliest_cr_line',\n",
       " 'inq_last_6mths',\n",
       " 'mths_since_last_delinq',\n",
       " 'open_acc',\n",
       " 'pub_rec',\n",
       " 'revol_bal',\n",
       " 'revol_util',\n",
       " 'total_acc',\n",
       " 'initial_list_status',\n",
       " 'out_prncp',\n",
       " 'out_prncp_inv',\n",
       " 'total_pymnt',\n",
       " 'total_pymnt_inv',\n",
       " 'total_rec_prncp',\n",
       " 'total_rec_int',\n",
       " 'total_rec_late_fee',\n",
       " 'recoveries',\n",
       " 'collection_recovery_fee',\n",
       " 'last_pymnt_d',\n",
       " 'last_pymnt_amnt',\n",
       " 'last_credit_pull_d',\n",
       " 'collections_12_mths_ex_med',\n",
       " 'policy_code',\n",
       " 'application_type',\n",
       " 'acc_now_delinq',\n",
       " 'tot_coll_amt',\n",
       " 'tot_cur_bal',\n",
       " 'total_rev_hi_lim',\n",
       " 'acc_open_past_24mths',\n",
       " 'avg_cur_bal',\n",
       " 'bc_open_to_buy',\n",
       " 'bc_util',\n",
       " 'chargeoff_within_12_mths',\n",
       " 'delinq_amnt',\n",
       " 'mo_sin_old_il_acct',\n",
       " 'mo_sin_old_rev_tl_op',\n",
       " 'mo_sin_rcnt_rev_tl_op',\n",
       " 'mo_sin_rcnt_tl',\n",
       " 'mort_acc',\n",
       " 'mths_since_recent_bc',\n",
       " 'mths_since_recent_inq',\n",
       " 'num_accts_ever_120_pd',\n",
       " 'num_actv_bc_tl',\n",
       " 'num_actv_rev_tl',\n",
       " 'num_bc_sats',\n",
       " 'num_bc_tl',\n",
       " 'num_il_tl',\n",
       " 'num_op_rev_tl',\n",
       " 'num_rev_accts',\n",
       " 'num_rev_tl_bal_gt_0',\n",
       " 'num_sats',\n",
       " 'num_tl_120dpd_2m',\n",
       " 'num_tl_30dpd',\n",
       " 'num_tl_90g_dpd_24m',\n",
       " 'num_tl_op_past_12m',\n",
       " 'pct_tl_nvr_dlq',\n",
       " 'percent_bc_gt_75',\n",
       " 'pub_rec_bankruptcies',\n",
       " 'tax_liens',\n",
       " 'tot_hi_cred_lim',\n",
       " 'total_bal_ex_mort',\n",
       " 'total_bc_limit',\n",
       " 'total_il_high_credit_limit',\n",
       " 'hardship_flag',\n",
       " 'disbursement_method',\n",
       " 'debt_settlement_flag']"
      ]
     },
     "execution_count": 18,
     "metadata": {},
     "output_type": "execute_result"
    }
   ],
   "source": [
    "dff.columns.tolist()"
   ]
  },
  {
   "cell_type": "code",
   "execution_count": null,
   "metadata": {
    "collapsed": true
   },
   "outputs": [],
   "source": []
  }
 ],
 "metadata": {
  "kernelspec": {
   "display_name": "Python 3",
   "language": "python",
   "name": "python3"
  },
  "language_info": {
   "codemirror_mode": {
    "name": "ipython",
    "version": 3
   },
   "file_extension": ".py",
   "mimetype": "text/x-python",
   "name": "python",
   "nbconvert_exporter": "python",
   "pygments_lexer": "ipython3",
   "version": "3.6.3"
  }
 },
 "nbformat": 4,
 "nbformat_minor": 2
}
